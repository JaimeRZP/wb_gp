{
 "cells": [
  {
   "cell_type": "code",
   "execution_count": 2,
   "id": "59e89c4d",
   "metadata": {},
   "outputs": [
    {
     "name": "stderr",
     "output_type": "stream",
     "text": [
      "\u001b[32m\u001b[1m   Resolving\u001b[22m\u001b[39m package versions...\n",
      "\u001b[32m\u001b[1m    Updating\u001b[22m\u001b[39m `~/cosmo_GP/Project.toml`\n",
      "\u001b[33m⌅\u001b[39m \u001b[90m[f6369f11] \u001b[39m\u001b[92m+ ForwardDiff v0.10.38\u001b[39m\n",
      "\u001b[32m\u001b[1m  No Changes\u001b[22m\u001b[39m to `~/cosmo_GP/Manifest.toml`\n"
     ]
    }
   ],
   "source": [
    "using LinearAlgebra\n",
    "using Turing\n",
    "using LimberJack\n",
    "using Pkg\n",
    "Pkg.add(\"ForwardDiff\")"
   ]
  },
  {
   "cell_type": "code",
   "execution_count": 3,
   "id": "74ce57e0",
   "metadata": {},
   "outputs": [
    {
     "data": {
      "text/plain": [
       "CC (generic function with 1 method)"
      ]
     },
     "metadata": {},
     "output_type": "display_data"
    }
   ],
   "source": [
    "function CC()\n",
    "    z = [\n",
    "        0.07, 0.09, 0.12, 0.17, 0.179, 0.199, 0.2,\n",
    "        0.27, 0.28, 0.352, 0.38, 0.3802, 0.4,\n",
    "        0.4004, 0.4247, 0.44, 0.4497, 0.47, 0.4783,\n",
    "        0.48, 0.51, 0.593, 0.6, 0.61, 0.68, 0.73,\n",
    "        0.781, 0.875, 0.88, 0.9, 1.037, 1.3,\n",
    "        1.363, 1.43, 1.53, 1.75, 1.965\n",
    "    ]\n",
    "\n",
    "    data = [\n",
    "        69.0, 69.0, 68.6, 83.0, 75.0, 75.0, 72.9,\n",
    "        77.0, 88.8, 83.0, 81.5, 83.0, 95.0, 77.0,\n",
    "        87.1, 82.6, 92.8, 89.0, 80.9, 97.0, 90.4,\n",
    "        104.0, 87.9, 97.3, 92.0, 97.3, 105.0,\n",
    "        125.0, 90.0, 117.0, 154.0, 168.0, 160.0,\n",
    "        177.0, 140.0, 202.0, 186.5\n",
    "    ]\n",
    "\n",
    "    err = [\n",
    "        19.6, 12.0, 26.2, 8.0, 4.0, 5.0, 29.6,\n",
    "        14.0, 36.6, 14.0, 1.9, 13.5, 17.0, 10.2,\n",
    "        11.2, 7.8, 12.9, 23.0, 9.0, 62.0, 1.9,\n",
    "        13.0, 6.1, 2.1, 8.0, 7.0, 12.0, 17.0,\n",
    "        40.0, 23.0, 20.0, 17.0, 33.6, 18.0,\n",
    "        14.0, 40.0, 50.4\n",
    "    ]\n",
    "\n",
    "    cov = zeros(length(z), length(z))\n",
    "    for i in 1:length(z)\n",
    "        cov[i, i] = err[i]^2\n",
    "    end\n",
    "\n",
    "    return (\n",
    "        data_name = \"CC\",\n",
    "        z = z,\n",
    "        data = data,\n",
    "        cov = cov\n",
    "    )\n",
    "end\n"
   ]
  },
  {
   "cell_type": "code",
   "execution_count": 4,
   "id": "b3ccee73",
   "metadata": {},
   "outputs": [
    {
     "data": {
      "text/plain": [
       "BOSSDR12_1 (generic function with 1 method)"
      ]
     },
     "metadata": {},
     "output_type": "display_data"
    }
   ],
   "source": [
    "function BOSSDR12_1()\n",
    "    z = [0.38, 0.51, 0.61]\n",
    "    data = [1512.39, 1975.22, 2306.68, 81.2087, 90.9029, 98.9647, 0.49749, 0.457523, 0.436148]\n",
    "    cov = [3.63049e+00 1.80306e+00 9.19842e-01 9.71342e+00 7.75546e+00 5.97897e+00 2.79185e-02 1.24050e-02 4.75548e-03; \n",
    "           1.80306e+00 3.77146e+00 2.21471e+00 4.85105e+00 1.19729e+01 9.73184e+00 9.28354e-03 2.22588e-02 1.05956e-02;\n",
    "           9.19842e-01 2.21471e+00 4.37982e+00 2.43394e+00 6.71715e+00 1.60709e+01 1.01870e-03 9.71991e-03 2.14133e-02;\n",
    "           9.71342e+00 4.85105e+00 2.43394e+00 5.00049e+02 2.94536e+02 1.42011e+02 3.91498e-01 1.51597e-01 4.36366e-02;\n",
    "           7.75546e+00 1.19729e+01 6.71715e+00 2.94536e+02 7.02299e+02 4.32750e+02 1.95890e-01 3.88996e-01 1.81786e-01;\n",
    "           5.97897e+00 9.73184e+00 1.60709e+01 1.42011e+02 4.32750e+02 1.01718e+03 3.40803e-02 2.46111e-01 4.78570e-01;\n",
    "           2.79185e-02 9.28354e-03 1.01870e-03 3.91498e-01 1.95890e-01 3.40803e-02 2.03355e-03 8.11829e-04 2.64615e-04;\n",
    "           1.24050e-02 2.22588e-02 9.71991e-03 1.51597e-01 3.88996e-01 2.46111e-01 8.11829e-04 1.42289e-03 6.62824e-04;\n",
    "           4.75548e-03 1.05956e-02 2.14133e-02 4.36366e-02 1.81786e-01 4.78570e-01 2.64615e-04 6.62824e-04 1.18576e-03]\n",
    "    return (data_name = \"BOSSDR12\", z = z, data = data, cov = cov)\n",
    "end"
   ]
  },
  {
   "cell_type": "code",
   "execution_count": 5,
   "id": "9f3140a7",
   "metadata": {},
   "outputs": [
    {
     "data": {
      "text/plain": [
       "BOSSDR12 (generic function with 1 method)"
      ]
     },
     "metadata": {},
     "output_type": "display_data"
    }
   ],
   "source": [
    "function BOSSDR12()\n",
    "    z = [0.38, 0.51, 0.61]\n",
    "    data = [81.2087, 90.9029, 98.9647]\n",
    "    cov = [5.00049e+02 2.94536e+02 1.42011e+02; 2.94536e+02 7.02299e+02 4.32750e+02; 1.42011e+02 4.32750e+02 1.01718e+03]\n",
    "    return (data_name = \"BOSSDR12\", z = z, data = data, cov = cov)\n",
    "end"
   ]
  },
  {
   "cell_type": "code",
   "execution_count": 6,
   "id": "a22e6636",
   "metadata": {},
   "outputs": [],
   "source": [
    "cc = CC();\n",
    "bossdr12 = BOSSDR12();"
   ]
  },
  {
   "cell_type": "code",
   "execution_count": 7,
   "id": "0965ffd8",
   "metadata": {},
   "outputs": [],
   "source": [
    "data  = [bossdr12.data; cc.data];"
   ]
  },
  {
   "cell_type": "code",
   "execution_count": 8,
   "id": "d01c8f41",
   "metadata": {},
   "outputs": [],
   "source": [
    "cov = zeros(length(bossdr12.data)+ length(cc.data), length(bossdr12.data)+ length(cc.data));\n",
    "for i in 1:length(bossdr12.data)\n",
    "    for j in 1:length(bossdr12.data)\n",
    "        cov[i,j] = bossdr12.cov[i,j]\n",
    "    end\n",
    "end\n",
    "\n",
    "for i in 1:length(cc.data)\n",
    "    for j in 1:length(cc.data)\n",
    "        cov[i+length(bossdr12.data), j+length(bossdr12.data)] = cc.cov[i,j]\n",
    "    end\n",
    "end\n"
   ]
  },
  {
   "cell_type": "code",
   "execution_count": 9,
   "id": "0e6e38a1",
   "metadata": {},
   "outputs": [
    {
     "data": {
      "text/plain": [
       "model (generic function with 2 methods)"
      ]
     },
     "metadata": {},
     "output_type": "display_data"
    }
   ],
   "source": [
    "using Turing\n",
    "@model function model(data)\n",
    "    Ωm ~ Uniform(0.2, 0.6)\n",
    "    Ωb ~ Uniform(0.028, 0.065)\n",
    "    h ~ Uniform(0.60, 0.82)\n",
    "    zs = [bossdr12.z; cc.z]\n",
    "    cosmo = Cosmology(Ωm= Ωm,  Ωb=Ωb, h=h, ns=0.96, σ8=0.81,\n",
    "                          tk_mode=:EisHu,\n",
    "                          pk_mode=:Halofit)\n",
    "\n",
    "    theory = cosmo.cpar.h*100*Ez(cosmo, zs)\n",
    "    data ~ MvNormal(theory, cov)\n",
    "end"
   ]
  },
  {
   "cell_type": "code",
   "execution_count": 10,
   "id": "e95e96d1",
   "metadata": {},
   "outputs": [
    {
     "name": "stdout",
     "output_type": "stream",
     "text": [
      "(40,)\n",
      "(40,)\n",
      "(40,)\n",
      "(40, 40)\n"
     ]
    }
   ],
   "source": [
    "z = [bossdr12.z; cc.z]\n",
    "cos = Cosmology(Ωm= 0.5,  Ωb=0.04, h=0.7, ns=0.96, σ8=0.81, tk_mode=:EisHu, pk_mode=:Halofit)\n",
    "th = cos.cpar.h*100*Ez(cos, z)\n",
    "println(size(z))\n",
    "println(size(data))\n",
    "println(size(th))\n",
    "println(size(cov))"
   ]
  },
  {
   "cell_type": "code",
   "execution_count": 11,
   "id": "20c1fbcb",
   "metadata": {},
   "outputs": [
    {
     "data": {
      "text/plain": [
       "DynamicPPL.Model{typeof(model), (:data,), (), (), Tuple{Vector{Float64}}, Tuple{}, DynamicPPL.DefaultContext}(Main.model, (data = [81.2087, 90.9029, 98.9647, 69.0, 69.0, 68.6, 83.0, 75.0, 75.0, 72.9  …  125.0, 90.0, 117.0, 154.0, 168.0, 160.0, 177.0, 140.0, 202.0, 186.5],), NamedTuple(), DynamicPPL.DefaultContext())"
      ]
     },
     "metadata": {},
     "output_type": "display_data"
    }
   ],
   "source": [
    "# Condition model on data\n",
    "cond_model = model(data)\n",
    "\n",
    "# # Define sampler\n",
    "# # nadapts = 500\n",
    "# TAP = 0.65\n",
    "# sampler = NUTS(TAP)\n",
    "\n",
    "# # Sample model \n",
    "# iterations = 10\n",
    "# chain = sample(cond_model, sampler, iterations) "
   ]
  },
  {
   "cell_type": "code",
   "execution_count": null,
   "id": "a6b89476",
   "metadata": {},
   "outputs": [],
   "source": [
    "using Turing\n",
    "using ForwardDiff\n",
    "# Sample model \n",
    "iterations = 10\n",
    "chain = sample(cond_model, NUTS(1, 0.65, init_ϵ=0.1, max_depth=8), iterations) "
   ]
  },
  {
   "cell_type": "code",
   "execution_count": null,
   "id": "20e61659",
   "metadata": {},
   "outputs": [
    {
     "name": "stderr",
     "output_type": "stream",
     "text": [
      "\u001b[32mSampling   0%|                                          |  ETA: N/A\u001b[39m\n",
      "┌ Info: Found initial step size\n",
      "│   ϵ = 0.025\n",
      "└ @ Turing.Inference /home/vis09/.julia/packages/Turing/wjl7M/src/inference/hmc.jl:192\n",
      "\u001b[32mSampling   0%|▎                                         |  ETA: 6:41:31\u001b[39m"
     ]
    }
   ],
   "source": [
    "# Define sampler\n",
    "nadapts = 500\n",
    "TAP = 0.65\n",
    "sampler2 = NUTS(nadapts, TAP)\n",
    "\n",
    "# Sample model \n",
    "iterations2 = 1000\n",
    "chain2 = sample(cond_model, sampler2, iterations2) \n",
    "     "
   ]
  }
 ],
 "metadata": {
  "kernelspec": {
   "display_name": "Julia 1.11.5",
   "language": "julia",
   "name": "julia-1.11"
  },
  "language_info": {
   "file_extension": ".jl",
   "mimetype": "application/julia",
   "name": "julia",
   "version": "1.11.5"
  }
 },
 "nbformat": 4,
 "nbformat_minor": 5
}
