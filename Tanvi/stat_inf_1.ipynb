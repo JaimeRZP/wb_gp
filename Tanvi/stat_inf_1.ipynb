{
 "cells": [
  {
   "cell_type": "code",
   "execution_count": null,
   "id": "59e89c4d",
   "metadata": {},
   "outputs": [],
   "source": [
    "using LinearAlgebra\n",
    "using Turing\n",
    "using LimberJack\n",
    "using Pkg\n",
    "Pkg.add(\"ForwardDiff\")"
   ]
  },
  {
   "cell_type": "code",
   "execution_count": null,
   "id": "74ce57e0",
   "metadata": {},
   "outputs": [],
   "source": [
    "function CC()\n",
    "    z = [\n",
    "        0.07, 0.09, 0.12, 0.17, 0.179, 0.199, 0.2,\n",
    "        0.27, 0.28, 0.352, 0.38, 0.3802, 0.4,\n",
    "        0.4004, 0.4247, 0.44, 0.4497, 0.47, 0.4783,\n",
    "        0.48, 0.51, 0.593, 0.6, 0.61, 0.68, 0.73,\n",
    "        0.781, 0.875, 0.88, 0.9, 1.037, 1.3,\n",
    "        1.363, 1.43, 1.53, 1.75, 1.965\n",
    "    ]\n",
    "\n",
    "    data = [\n",
    "        69.0, 69.0, 68.6, 83.0, 75.0, 75.0, 72.9,\n",
    "        77.0, 88.8, 83.0, 81.5, 83.0, 95.0, 77.0,\n",
    "        87.1, 82.6, 92.8, 89.0, 80.9, 97.0, 90.4,\n",
    "        104.0, 87.9, 97.3, 92.0, 97.3, 105.0,\n",
    "        125.0, 90.0, 117.0, 154.0, 168.0, 160.0,\n",
    "        177.0, 140.0, 202.0, 186.5\n",
    "    ]\n",
    "\n",
    "    err = [\n",
    "        19.6, 12.0, 26.2, 8.0, 4.0, 5.0, 29.6,\n",
    "        14.0, 36.6, 14.0, 1.9, 13.5, 17.0, 10.2,\n",
    "        11.2, 7.8, 12.9, 23.0, 9.0, 62.0, 1.9,\n",
    "        13.0, 6.1, 2.1, 8.0, 7.0, 12.0, 17.0,\n",
    "        40.0, 23.0, 20.0, 17.0, 33.6, 18.0,\n",
    "        14.0, 40.0, 50.4\n",
    "    ]\n",
    "\n",
    "    cov = zeros(length(z), length(z))\n",
    "    for i in 1:length(z)\n",
    "        cov[i, i] = err[i]^2\n",
    "    end\n",
    "\n",
    "    return (\n",
    "        data_name = \"CC\",\n",
    "        z = z,\n",
    "        data = data,\n",
    "        cov = cov\n",
    "    )\n",
    "end\n"
   ]
  },
  {
   "cell_type": "code",
   "execution_count": null,
   "id": "9f3140a7",
   "metadata": {},
   "outputs": [],
   "source": [
    "function BOSSDR12()\n",
    "    z = [0.38, 0.51, 0.61]\n",
    "    data = [81.2087, 90.9029, 98.9647]\n",
    "    cov = [5.00049e+02 2.94536e+02 1.42011e+02; 2.94536e+02 7.02299e+02 4.32750e+02; 1.42011e+02 4.32750e+02 1.01718e+03]\n",
    "    return (data_name = \"BOSSDR12\", z = z, data = data, cov = cov)\n",
    "end"
   ]
  },
  {
   "cell_type": "code",
   "execution_count": null,
   "id": "a22e6636",
   "metadata": {},
   "outputs": [],
   "source": [
    "cc = CC();\n",
    "bossdr12 = BOSSDR12();"
   ]
  },
  {
   "cell_type": "code",
   "execution_count": null,
   "id": "0965ffd8",
   "metadata": {},
   "outputs": [],
   "source": [
    "data  = [bossdr12.data; cc.data];"
   ]
  },
  {
   "cell_type": "code",
   "execution_count": null,
   "id": "d01c8f41",
   "metadata": {},
   "outputs": [],
   "source": [
    "cov = zeros(length(bossdr12.data)+ length(cc.data), length(bossdr12.data)+ length(cc.data));\n",
    "for i in 1:length(bossdr12.data)\n",
    "    for j in 1:length(bossdr12.data)\n",
    "        cov[i,j] = bossdr12.cov[i,j]\n",
    "    end\n",
    "end\n",
    "\n",
    "for i in 1:length(cc.data)\n",
    "    for j in 1:length(cc.data)\n",
    "        cov[i+length(bossdr12.data), j+length(bossdr12.data)] = cc.cov[i,j]\n",
    "    end\n",
    "end\n"
   ]
  },
  {
   "cell_type": "code",
   "execution_count": null,
   "id": "0e6e38a1",
   "metadata": {},
   "outputs": [],
   "source": [
    "@model function model(data)\n",
    "    Ωm ~ Uniform(0.2, 0.6)\n",
    "    Ωb ~ Uniform(0.028, 0.065)\n",
    "    h ~ Uniform(0.60, 0.82)\n",
    "    zs = [bossdr12.z; cc.z]\n",
    "    cosmo = Cosmology(Ωm= Ωm,  Ωb=Ωb, h=h, ns=0.96, σ8=0.81,\n",
    "                          tk_mode=:EisHu,\n",
    "                          pk_mode=:Halofit)\n",
    "\n",
    "    theory = cosmo.cpar.h*100*Ez(cosmo, zs)\n",
    "    data ~ MvNormal(theory, cov)\n",
    "end"
   ]
  },
  {
   "cell_type": "code",
   "execution_count": null,
   "id": "20c1fbcb",
   "metadata": {},
   "outputs": [],
   "source": [
    "# Condition model on data\n",
    "cond_model = model(data)"
   ]
  },
  {
   "cell_type": "code",
   "execution_count": null,
   "id": "a6b89476",
   "metadata": {},
   "outputs": [],
   "source": [
    "using Turing\n",
    "using ForwardDiff\n",
    "# Sample model \n",
    "iterations = 10\n",
    "chain = sample(cond_model, NUTS(1, 0.65, init_ϵ=0.1, max_depth=8), iterations) "
   ]
  },
  {
   "cell_type": "code",
   "execution_count": null,
   "id": "20e61659",
   "metadata": {},
   "outputs": [],
   "source": [
    "# # Define sampler\n",
    "# nadapts = 500\n",
    "# TAP = 0.65\n",
    "# sampler2 = NUTS(nadapts, TAP)\n",
    "\n",
    "# # Sample model \n",
    "# iterations2 = 1000\n",
    "# chain2 = sample(cond_model, sampler2, iterations2) \n",
    "     "
   ]
  }
 ],
 "metadata": {
  "kernelspec": {
   "display_name": "Julia 1.11.5",
   "language": "julia",
   "name": "julia-1.11"
  },
  "language_info": {
   "file_extension": ".jl",
   "mimetype": "application/julia",
   "name": "julia",
   "version": "1.11.5"
  }
 },
 "nbformat": 4,
 "nbformat_minor": 5
}
